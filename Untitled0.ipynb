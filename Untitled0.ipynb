{
  "nbformat": 4,
  "nbformat_minor": 0,
  "metadata": {
    "colab": {
      "provenance": []
    },
    "kernelspec": {
      "name": "python3",
      "display_name": "Python 3"
    },
    "language_info": {
      "name": "python"
    }
  },
  "cells": [
    {
      "cell_type": "code",
      "execution_count": 5,
      "metadata": {
        "colab": {
          "base_uri": "https://localhost:8080/"
        },
        "id": "ppoOppP_3-J7",
        "outputId": "5f61a519-b777-46e0-9a24-c2fc0fceafca"
      },
      "outputs": [
        {
          "output_type": "execute_result",
          "data": {
            "text/plain": [
              "17"
            ]
          },
          "metadata": {},
          "execution_count": 5
        }
      ],
      "source": [
        "import sys\n",
        "sys.int_info\n",
        "x = 17\n",
        "x"
      ]
    },
    {
      "cell_type": "code",
      "source": [
        "sys.float_info"
      ],
      "metadata": {
        "colab": {
          "base_uri": "https://localhost:8080/"
        },
        "id": "H5sIVHSz52kI",
        "outputId": "7e44f458-7f91-469d-dd0c-c0fcb8a6147f"
      },
      "execution_count": 7,
      "outputs": [
        {
          "output_type": "execute_result",
          "data": {
            "text/plain": [
              "sys.float_info(max=1.7976931348623157e+308, max_exp=1024, max_10_exp=308, min=2.2250738585072014e-308, min_exp=-1021, min_10_exp=-307, dig=15, mant_dig=53, epsilon=2.220446049250313e-16, radix=2, rounds=1)"
            ]
          },
          "metadata": {},
          "execution_count": 7
        }
      ]
    },
    {
      "cell_type": "code",
      "source": [
        "pi = math.pi\n",
        "pi"
      ],
      "metadata": {
        "colab": {
          "base_uri": "https://localhost:8080/"
        },
        "id": "Rbnl4RLm6PFn",
        "outputId": "5d3f5588-c730-40bb-ffd9-bad213074a90"
      },
      "execution_count": 14,
      "outputs": [
        {
          "output_type": "execute_result",
          "data": {
            "text/plain": [
              "3.141592653589793"
            ]
          },
          "metadata": {},
          "execution_count": 14
        }
      ]
    },
    {
      "cell_type": "code",
      "source": [
        "of_ints = [5, 6, 1 , 20, 64, 33, 85, 22, 27, 3]\n",
        "print(of_ints)"
      ],
      "metadata": {
        "colab": {
          "base_uri": "https://localhost:8080/"
        },
        "id": "Z_1BK3hA6VD5",
        "outputId": "e341e35d-bcbf-4718-b1f2-02080cb01935"
      },
      "execution_count": 15,
      "outputs": [
        {
          "output_type": "stream",
          "name": "stdout",
          "text": [
            "[5, 6, 1, 20, 64, 33, 85, 22, 27, 3]\n"
          ]
        }
      ]
    },
    {
      "cell_type": "code",
      "source": [
        "of_strings = ['hello world', 'this is a sentence.', 'this is how a lot of data␣ can be formatted']\n",
        "print(of_strings)"
      ],
      "metadata": {
        "colab": {
          "base_uri": "https://localhost:8080/"
        },
        "id": "-VGROamO6j0D",
        "outputId": "ed433185-c456-4e94-c49b-78a705fa64cf"
      },
      "execution_count": 18,
      "outputs": [
        {
          "output_type": "stream",
          "name": "stdout",
          "text": [
            "['hello world', 'this is a sentence.', 'this is how a lot of data␣ can be formatted']\n"
          ]
        }
      ]
    },
    {
      "cell_type": "markdown",
      "source": [
        "multi_ray = [5, 'a', 'you can have multiple types too', (4, 'four')]\n",
        "print(multi_ray)"
      ],
      "metadata": {
        "id": "z4efxYNq60Ea"
      }
    },
    {
      "cell_type": "code",
      "source": [
        "ray = [0,1,2]\n",
        "print(ray)"
      ],
      "metadata": {
        "colab": {
          "base_uri": "https://localhost:8080/"
        },
        "id": "2GNa4w1B7GWD",
        "outputId": "63e0e54b-39ba-4340-f04f-d4ca4a6e4034"
      },
      "execution_count": 28,
      "outputs": [
        {
          "output_type": "stream",
          "name": "stdout",
          "text": [
            "[0, 1, 2]\n"
          ]
        }
      ]
    },
    {
      "cell_type": "code",
      "source": [],
      "metadata": {
        "id": "COOZ1l8P8-CF"
      },
      "execution_count": null,
      "outputs": []
    }
  ]
}